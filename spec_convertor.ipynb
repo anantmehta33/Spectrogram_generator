{
 "cells": [
  {
   "cell_type": "code",
   "execution_count": 1,
   "id": "4152eb4c",
   "metadata": {},
   "outputs": [
    {
     "name": "stdout",
     "output_type": "stream",
     "text": [
      "5.131609977324263\n",
      "1\n"
     ]
    }
   ],
   "source": [
    "import numpy as np \n",
    "import matplotlib.pyplot as plt \n",
    "import scipy.io.wavfile as wavfile\n",
    "import os\n",
    "i=int(0)\n",
    "import librosa\n",
    "import librosa.display\n",
    "from matplotlib.backends.backend_agg import FigureCanvasAgg as FigureCanvas\n",
    "for audiofile in os.listdir('testing/'):\n",
    "#     dura=int(librosa.get_duration(filename=librosa.ex('Just_murmur/'+audiofile)))\n",
    "#     for j in range(5,dura,5):\n",
    "    aud,Fs=librosa.load('testing/'+audiofile)#,offset=0,duration=5.0)\n",
    "    aud = np.array(aud)\n",
    "    #print(aud.shape)\n",
    "    S = librosa.stft(aud)\n",
    "    duration=librosa.get_duration(S=S, sr=Fs)\n",
    "    print(duration)\n",
    "    count=0\n",
    "    for j in range(0,1,1):\n",
    "        first=aud\n",
    "        first=np.array(first)\n",
    "        first = first.astype('float64')\n",
    "        window_size = 1024\n",
    "        window = np.hanning(window_size)\n",
    "        stft  = librosa.core.spectrum.stft(first, n_fft=window_size, hop_length=512, window=window)\n",
    "        out = 2 * np.abs(stft) / np.sum(window)\n",
    "        fig = plt.Figure()\n",
    "        canvas = FigureCanvas(fig)\n",
    "        ax = fig.add_subplot(111)\n",
    "        p = librosa.display.specshow(librosa.amplitude_to_db(out, ref=np.max), ax=ax, y_axis='log', x_axis='time')\n",
    "        ax.axis('off')\n",
    "        s='testing/'\n",
    "        s=s+str(i)\n",
    "        fig.savefig(s+\".png\")\n",
    "        i=i+1\n",
    "        count=count+1\n",
    "        plt.show()\n",
    "    print(count)"
   ]
  },
  {
   "cell_type": "code",
   "execution_count": null,
   "id": "5bf13077",
   "metadata": {},
   "outputs": [],
   "source": []
  }
 ],
 "metadata": {
  "kernelspec": {
   "display_name": "Python 3",
   "language": "python",
   "name": "python3"
  },
  "language_info": {
   "codemirror_mode": {
    "name": "ipython",
    "version": 3
   },
   "file_extension": ".py",
   "mimetype": "text/x-python",
   "name": "python",
   "nbconvert_exporter": "python",
   "pygments_lexer": "ipython3",
   "version": "3.8.8"
  }
 },
 "nbformat": 4,
 "nbformat_minor": 5
}
